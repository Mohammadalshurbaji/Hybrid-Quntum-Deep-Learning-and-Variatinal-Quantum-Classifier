{
 "cells": [
  {
   "cell_type": "code",
   "execution_count": 11,
   "id": "b223e1e7-1787-440e-9a3b-91505c97cff8",
   "metadata": {
    "tags": []
   },
   "outputs": [],
   "source": [
    "import tensorflow as tf\n",
    "from tensorflow import keras\n",
    "import os\n",
    "import tempfile\n",
    "from datetime import datetime\n",
    "import pickle\n",
    "import time\n",
    "\n",
    "import matplotlib as mpl\n",
    "import matplotlib.pyplot as plt\n",
    "import pandas as pd\n",
    "import seaborn as sns\n",
    "\n",
    "import sklearn\n",
    "from sklearn.metrics import confusion_matrix\n",
    "from sklearn.model_selection import train_test_split\n",
    "from sklearn.preprocessing import StandardScaler\n",
    "\n",
    "import random as python_random\n",
    "\n",
    "\n",
    "import pennylane as qml\n",
    "from pennylane import numpy as np\n",
    "\n",
    "from qiskit import QuantumCircuit\n",
    "\n",
    "from qiskit_ibm_runtime import QiskitRuntimeService\n",
    "from qiskit_aer.noise import NoiseModel\n",
    "from qiskit.visualization import plot_histogram"
   ]
  },
  {
   "cell_type": "code",
   "execution_count": 16,
   "id": "b5fff360-e9e6-443f-9b83-7b7ffbe21502",
   "metadata": {
    "tags": []
   },
   "outputs": [],
   "source": [
    "@qml.qnode(dev)\n",
    "def qnode(inputs, weights):\n",
    "    qml.templates.AngleEmbedding(inputs, wires=range(n_qubits))\n",
    "    qml.templates.BasicEntanglerLayers(weights, wires=range(n_qubits))\n",
    "    \n",
    "    return [qml.expval(qml.PauliZ(wires=i)) for i in range(n_qubits)]"
   ]
  },
  {
   "cell_type": "code",
   "execution_count": null,
   "id": "a98292f0-bb4c-43bc-8366-22434a5085fc",
   "metadata": {},
   "outputs": [],
   "source": [
    "@qml.qnode(dev)\n",
    "def qnode(inputs, weights):\n",
    "    qml.templates.AngleEmbedding(inputs, wires=range(n_qubits))\n",
    "    qml.templates.BasicEntanglerLayers(weights, wires=range(n_qubits))\n",
    "    return [qml.expval(qml.PauliZ(wires=i)) for i in range(n_qubits)]\n",
    "\n",
    "qlayer = qml.qnn.KerasLayer(qnode, weight_shapes, output_dim=n_qubits)"
   ]
  },
  {
   "cell_type": "code",
   "execution_count": 17,
   "id": "2eff26dd-d50b-412b-9b40-089a6bf09296",
   "metadata": {
    "tags": []
   },
   "outputs": [
    {
     "name": "stderr",
     "output_type": "stream",
     "text": [
      "/home/fmazdar/.local/lib/python3.11/site-packages/pennylane/qnn/keras.py:317: PennyLaneDeprecationWarning: The 'KerasLayer' class is deprecated and will be removed in v0.42. \n",
      "  warnings.warn(\n"
     ]
    }
   ],
   "source": [
    "QiskitRuntimeService.save_account(\n",
    "    channel=\"ibm_cloud\",\n",
    "    token=\"Sr8ouZGkvGbD01_1N8IUvoqY4BBTbll8DMPk63h8E_qO\",\n",
    "    instance='ibm_quantum',\n",
    "    overwrite=True\n",
    ")\n",
    "\n",
    "service = QiskitRuntimeService()\n",
    "backend = service.backend(\"ibm_sherbrooke\")  \n",
    "\n",
    "noise_model = NoiseModel.from_backend(backend)\n",
    "coupling_map = backend.configuration().coupling_map\n",
    "basis_gates = noise_model.basis_gates\n",
    "\n",
    "dev = qml.device('qiskit.aer', wires=n_qubits, backend='aer_simulator', \n",
    "                 coupling_map=coupling_map, basis_gates=basis_gates, noise_model=noise_model)\n",
    "\n",
    "\n",
    "qlayer = qml.qnn.KerasLayer(qnode, weight_shapes, output_dim=n_qubits)\n"
   ]
  },
  {
   "cell_type": "code",
   "execution_count": 24,
   "id": "84b53c5f-72b0-48b9-96c2-7f9fbb2aefd4",
   "metadata": {
    "tags": []
   },
   "outputs": [
    {
     "name": "stdout",
     "output_type": "stream",
     "text": [
      "Epoch 1/100\n"
     ]
    },
    {
     "name": "stderr",
     "output_type": "stream",
     "text": [
      "/home/fmazdar/.local/lib/python3.11/site-packages/keras/src/layers/core/dense.py:87: UserWarning: Do not pass an `input_shape`/`input_dim` argument to a layer. When using Sequential models, prefer using an `Input(shape)` object as the first layer in the model instead.\n",
      "  super().__init__(activity_regularizer=activity_regularizer, **kwargs)\n"
     ]
    },
    {
     "ename": "ValueError",
     "evalue": "Exception encountered when calling KerasLayer.call().\n\n\u001b[1mCannot convert a partially known TensorShape <unknown> to a Tensor.\u001b[0m\n\nArguments received by KerasLayer.call():\n  • inputs=tf.Tensor(shape=(None, 2), dtype=float32)",
     "output_type": "error",
     "traceback": [
      "\u001b[0;31m---------------------------------------------------------------------------\u001b[0m",
      "\u001b[0;31mValueError\u001b[0m                                Traceback (most recent call last)",
      "Cell \u001b[0;32mIn[24], line 53\u001b[0m\n\u001b[1;32m     46\u001b[0m model\u001b[38;5;241m.\u001b[39mcompile(\n\u001b[1;32m     47\u001b[0m     optimizer\u001b[38;5;241m=\u001b[39mkeras\u001b[38;5;241m.\u001b[39moptimizers\u001b[38;5;241m.\u001b[39mAdam(learning_rate\u001b[38;5;241m=\u001b[39m\u001b[38;5;241m1e-3\u001b[39m),\n\u001b[1;32m     48\u001b[0m     loss\u001b[38;5;241m=\u001b[39mkeras\u001b[38;5;241m.\u001b[39mlosses\u001b[38;5;241m.\u001b[39mBinaryCrossentropy(),\n\u001b[1;32m     49\u001b[0m     metrics\u001b[38;5;241m=\u001b[39mMETRICS)\n\u001b[1;32m     51\u001b[0m \u001b[38;5;66;03m#early_stopping= tf.keras.callbacks.EarlyStopping(monitor='val_auc', verbose=1,patience=100,mode='max',restore_best_weights=True)\u001b[39;00m\n\u001b[0;32m---> 53\u001b[0m history \u001b[38;5;241m=\u001b[39m model\u001b[38;5;241m.\u001b[39mfit(\n\u001b[1;32m     54\u001b[0m         train_features,\n\u001b[1;32m     55\u001b[0m         train_labels,\n\u001b[1;32m     56\u001b[0m         batch_size\u001b[38;5;241m=\u001b[39mBATCH_SIZE,\n\u001b[1;32m     57\u001b[0m         epochs\u001b[38;5;241m=\u001b[39mEPOCHS,\n\u001b[1;32m     58\u001b[0m         \u001b[38;5;66;03m#callbacks=[early_stopping],\u001b[39;00m\n\u001b[1;32m     59\u001b[0m         validation_data\u001b[38;5;241m=\u001b[39m(val_features, val_labels))\n\u001b[1;32m     62\u001b[0m train_predictions \u001b[38;5;241m=\u001b[39m model\u001b[38;5;241m.\u001b[39mpredict(train_features, batch_size\u001b[38;5;241m=\u001b[39mBATCH_SIZE)\n\u001b[1;32m     63\u001b[0m test_predictions \u001b[38;5;241m=\u001b[39m model\u001b[38;5;241m.\u001b[39mpredict(test_features, batch_size\u001b[38;5;241m=\u001b[39mBATCH_SIZE)\n",
      "File \u001b[0;32m~/.local/lib/python3.11/site-packages/keras/src/utils/traceback_utils.py:122\u001b[0m, in \u001b[0;36mfilter_traceback.<locals>.error_handler\u001b[0;34m(*args, **kwargs)\u001b[0m\n\u001b[1;32m    119\u001b[0m     filtered_tb \u001b[38;5;241m=\u001b[39m _process_traceback_frames(e\u001b[38;5;241m.\u001b[39m__traceback__)\n\u001b[1;32m    120\u001b[0m     \u001b[38;5;66;03m# To get the full stack trace, call:\u001b[39;00m\n\u001b[1;32m    121\u001b[0m     \u001b[38;5;66;03m# `keras.config.disable_traceback_filtering()`\u001b[39;00m\n\u001b[0;32m--> 122\u001b[0m     \u001b[38;5;28;01mraise\u001b[39;00m e\u001b[38;5;241m.\u001b[39mwith_traceback(filtered_tb) \u001b[38;5;28;01mfrom\u001b[39;00m \u001b[38;5;28;01mNone\u001b[39;00m\n\u001b[1;32m    123\u001b[0m \u001b[38;5;28;01mfinally\u001b[39;00m:\n\u001b[1;32m    124\u001b[0m     \u001b[38;5;28;01mdel\u001b[39;00m filtered_tb\n",
      "File \u001b[0;32m~/.local/lib/python3.11/site-packages/pennylane/qnn/keras.py:421\u001b[0m, in \u001b[0;36mKerasLayer.call\u001b[0;34m(self, inputs)\u001b[0m\n\u001b[1;32m    418\u001b[0m     inputs \u001b[38;5;241m=\u001b[39m tf\u001b[38;5;241m.\u001b[39mreshape(inputs, (\u001b[38;5;241m-\u001b[39m\u001b[38;5;241m1\u001b[39m, inputs\u001b[38;5;241m.\u001b[39mshape[\u001b[38;5;241m-\u001b[39m\u001b[38;5;241m1\u001b[39m]))\n\u001b[1;32m    420\u001b[0m \u001b[38;5;66;03m# calculate the forward pass as usual\u001b[39;00m\n\u001b[0;32m--> 421\u001b[0m results \u001b[38;5;241m=\u001b[39m \u001b[38;5;28mself\u001b[39m\u001b[38;5;241m.\u001b[39m_evaluate_qnode(inputs)\n\u001b[1;32m    423\u001b[0m \u001b[38;5;66;03m# reshape to the correct number of batch dims\u001b[39;00m\n\u001b[1;32m    424\u001b[0m \u001b[38;5;28;01mif\u001b[39;00m has_batch_dim:\n\u001b[1;32m    425\u001b[0m     \u001b[38;5;66;03m# pylint:disable=unexpected-keyword-arg,no-value-for-parameter\u001b[39;00m\n",
      "File \u001b[0;32m~/.local/lib/python3.11/site-packages/pennylane/qnn/keras.py:449\u001b[0m, in \u001b[0;36mKerasLayer._evaluate_qnode\u001b[0;34m(self, x)\u001b[0m\n\u001b[1;32m    446\u001b[0m \u001b[38;5;28;01mif\u001b[39;00m \u001b[38;5;28misinstance\u001b[39m(res, (\u001b[38;5;28mlist\u001b[39m, \u001b[38;5;28mtuple\u001b[39m)):\n\u001b[1;32m    447\u001b[0m     \u001b[38;5;28;01mif\u001b[39;00m \u001b[38;5;28mlen\u001b[39m(x\u001b[38;5;241m.\u001b[39mshape) \u001b[38;5;241m>\u001b[39m \u001b[38;5;241m1\u001b[39m:\n\u001b[1;32m    448\u001b[0m         \u001b[38;5;66;03m# multi-return and batch dim case\u001b[39;00m\n\u001b[0;32m--> 449\u001b[0m         res \u001b[38;5;241m=\u001b[39m [tf\u001b[38;5;241m.\u001b[39mreshape(r, (tf\u001b[38;5;241m.\u001b[39mshape(x)[\u001b[38;5;241m0\u001b[39m], tf\u001b[38;5;241m.\u001b[39mreduce_prod(r\u001b[38;5;241m.\u001b[39mshape[\u001b[38;5;241m1\u001b[39m:]))) \u001b[38;5;28;01mfor\u001b[39;00m r \u001b[38;5;129;01min\u001b[39;00m res]\n\u001b[1;32m    451\u001b[0m     \u001b[38;5;66;03m# multi-return and no batch dim\u001b[39;00m\n\u001b[1;32m    452\u001b[0m     \u001b[38;5;28;01mreturn\u001b[39;00m tf\u001b[38;5;241m.\u001b[39mexperimental\u001b[38;5;241m.\u001b[39mnumpy\u001b[38;5;241m.\u001b[39mhstack(res)\n",
      "File \u001b[0;32m~/.local/lib/python3.11/site-packages/pennylane/qnn/keras.py:449\u001b[0m, in \u001b[0;36m<listcomp>\u001b[0;34m(.0)\u001b[0m\n\u001b[1;32m    446\u001b[0m \u001b[38;5;28;01mif\u001b[39;00m \u001b[38;5;28misinstance\u001b[39m(res, (\u001b[38;5;28mlist\u001b[39m, \u001b[38;5;28mtuple\u001b[39m)):\n\u001b[1;32m    447\u001b[0m     \u001b[38;5;28;01mif\u001b[39;00m \u001b[38;5;28mlen\u001b[39m(x\u001b[38;5;241m.\u001b[39mshape) \u001b[38;5;241m>\u001b[39m \u001b[38;5;241m1\u001b[39m:\n\u001b[1;32m    448\u001b[0m         \u001b[38;5;66;03m# multi-return and batch dim case\u001b[39;00m\n\u001b[0;32m--> 449\u001b[0m         res \u001b[38;5;241m=\u001b[39m [tf\u001b[38;5;241m.\u001b[39mreshape(r, (tf\u001b[38;5;241m.\u001b[39mshape(x)[\u001b[38;5;241m0\u001b[39m], tf\u001b[38;5;241m.\u001b[39mreduce_prod(r\u001b[38;5;241m.\u001b[39mshape[\u001b[38;5;241m1\u001b[39m:]))) \u001b[38;5;28;01mfor\u001b[39;00m r \u001b[38;5;129;01min\u001b[39;00m res]\n\u001b[1;32m    451\u001b[0m     \u001b[38;5;66;03m# multi-return and no batch dim\u001b[39;00m\n\u001b[1;32m    452\u001b[0m     \u001b[38;5;28;01mreturn\u001b[39;00m tf\u001b[38;5;241m.\u001b[39mexperimental\u001b[38;5;241m.\u001b[39mnumpy\u001b[38;5;241m.\u001b[39mhstack(res)\n",
      "\u001b[0;31mValueError\u001b[0m: Exception encountered when calling KerasLayer.call().\n\n\u001b[1mCannot convert a partially known TensorShape <unknown> to a Tensor.\u001b[0m\n\nArguments received by KerasLayer.call():\n  • inputs=tf.Tensor(shape=(None, 2), dtype=float32)"
     ]
    }
   ],
   "source": [
    "num_data = 1000  #1803333\n",
    "EPOCHS = 100\n",
    "BATCH_SIZE = 50 #2048\n",
    "SEED=123\n",
    "\n",
    "n_qubits = 2\n",
    "n_layers = 1 #6\n",
    "weight_shapes = {\"weights\": (n_layers, n_qubits)}\n",
    "\n",
    "\n",
    "METRICS = [\n",
    "      #keras.metrics.TruePositives(name='tp'),\n",
    "      #keras.metrics.FalsePositives(name='fp'),\n",
    "      #keras.metrics.TrueNegatives(name='tn'),\n",
    "      #keras.metrics.FalseNegatives(name='fn'), \n",
    "      #keras.metrics.BinaryAccuracy(name='accuracy'),\n",
    "      #keras.metrics.Precision(name='precision'),\n",
    "      keras.metrics.Recall(name='recall'),\n",
    "      #keras.metrics.AUC(name='auc'),\n",
    "]\n",
    "\n",
    "\n",
    "test_features = np.array( pd.read_csv(\"benchmark-datasets/n\" + str(num_data) + \"_test_features.csv\") )\n",
    "test_labels = np.array( pd.read_csv(\"benchmark-datasets/n\" + str(num_data) + \"_test_labels.csv\") )\n",
    "\n",
    "train_features = np.array( pd.read_csv(\"benchmark-datasets/n\" + str(num_data) + \"_train_features.csv\") )\n",
    "train_labels = np.array( pd.read_csv(\"benchmark-datasets/n\" + str(num_data) + \"_train_labels.csv\") )\n",
    "\n",
    "val_features = np.array( pd.read_csv(\"benchmark-datasets/n\" + str(num_data) + \"_val_features.csv\") )\n",
    "val_labels = np.array( pd.read_csv(\"benchmark-datasets/n\" + str(num_data) + \"_val_labels.csv\") )\n",
    "\n",
    "\n",
    "os.environ[\"CUDA_VISIBLE_DEVICES\"] = \"-1\"\n",
    "os.environ['PYTHONHASHSEED'] = '0'\n",
    "np.random.seed(SEED)\n",
    "python_random.seed(SEED)\n",
    "tf.random.set_seed(SEED)\n",
    "    \n",
    "model = keras.Sequential([\n",
    "    keras.layers.Dense(n_qubits, activation='relu', input_shape=(train_features.shape[-1],)),\n",
    "    keras.layers.Dropout(0.5),\n",
    "    qlayer,\n",
    "    keras.layers.Dense(1, activation='sigmoid',bias_initializer=None)\n",
    "])\n",
    "\n",
    "model.compile(\n",
    "    optimizer=keras.optimizers.Adam(learning_rate=1e-3),\n",
    "    loss=keras.losses.BinaryCrossentropy(),\n",
    "    metrics=METRICS)\n",
    "\n",
    "#early_stopping= tf.keras.callbacks.EarlyStopping(monitor='val_auc', verbose=1,patience=100,mode='max',restore_best_weights=True)\n",
    "    \n",
    "history = model.fit(\n",
    "        train_features,\n",
    "        train_labels,\n",
    "        batch_size=BATCH_SIZE,\n",
    "        epochs=EPOCHS,\n",
    "        #callbacks=[early_stopping],\n",
    "        validation_data=(val_features, val_labels))\n",
    "\n",
    "\n",
    "train_predictions = model.predict(train_features, batch_size=BATCH_SIZE)\n",
    "test_predictions = model.predict(test_features, batch_size=BATCH_SIZE)\n",
    "\n",
    "\n",
    "baseline_results = model.evaluate(test_features, test_labels, batch_size=BATCH_SIZE, verbose=0)"
   ]
  }
 ],
 "metadata": {
  "kernelspec": {
   "display_name": "Python 3 (ipykernel)",
   "language": "python",
   "name": "python3"
  },
  "language_info": {
   "codemirror_mode": {
    "name": "ipython",
    "version": 3
   },
   "file_extension": ".py",
   "mimetype": "text/x-python",
   "name": "python",
   "nbconvert_exporter": "python",
   "pygments_lexer": "ipython3",
   "version": "3.11.5"
  }
 },
 "nbformat": 4,
 "nbformat_minor": 5
}
