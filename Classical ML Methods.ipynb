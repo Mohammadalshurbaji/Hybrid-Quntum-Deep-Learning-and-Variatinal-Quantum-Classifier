{
 "cells": [
  {
   "cell_type": "code",
   "execution_count": 2,
   "id": "27c5c8c5-85f4-47bd-a9c8-bbdf2676013d",
   "metadata": {
    "tags": []
   },
   "outputs": [
    {
     "name": "stdout",
     "output_type": "stream",
     "text": [
      "Defaulting to user installation because normal site-packages is not writeable\n",
      "Requirement already satisfied: qiskit in /home/malshur/.local/lib/python3.11/site-packages (1.4.0)\n",
      "Requirement already satisfied: rustworkx>=0.15.0 in /home/malshur/.local/lib/python3.11/site-packages (from qiskit) (0.16.0)\n",
      "Requirement already satisfied: numpy<3,>=1.17 in /home/malshur/.local/lib/python3.11/site-packages (from qiskit) (1.23.5)\n",
      "Requirement already satisfied: scipy>=1.5 in /home/malshur/.local/lib/python3.11/site-packages (from qiskit) (1.15.1)\n",
      "Requirement already satisfied: sympy>=1.3 in /home/malshur/.local/lib/python3.11/site-packages (from qiskit) (1.13.1)\n",
      "Requirement already satisfied: dill>=0.3 in /software/slurm/spackages/linux-rocky8-x86_64/gcc-12.2.0/anaconda3-2023.09-0-3mhml42fa64byxqyd5fig5tbih625dp2/lib/python3.11/site-packages (from qiskit) (0.3.6)\n",
      "Requirement already satisfied: python-dateutil>=2.8.0 in /software/slurm/spackages/linux-rocky8-x86_64/gcc-12.2.0/anaconda3-2023.09-0-3mhml42fa64byxqyd5fig5tbih625dp2/lib/python3.11/site-packages (from qiskit) (2.8.2)\n",
      "Requirement already satisfied: stevedore>=3.0.0 in /home/malshur/.local/lib/python3.11/site-packages (from qiskit) (5.4.0)\n",
      "Requirement already satisfied: typing-extensions in /home/malshur/.local/lib/python3.11/site-packages (from qiskit) (4.9.0)\n",
      "Requirement already satisfied: symengine<0.14,>=0.11 in /home/malshur/.local/lib/python3.11/site-packages (from qiskit) (0.13.0)\n",
      "Requirement already satisfied: six>=1.5 in /software/slurm/spackages/linux-rocky8-x86_64/gcc-12.2.0/anaconda3-2023.09-0-3mhml42fa64byxqyd5fig5tbih625dp2/lib/python3.11/site-packages (from python-dateutil>=2.8.0->qiskit) (1.16.0)\n",
      "Requirement already satisfied: pbr>=2.0.0 in /home/malshur/.local/lib/python3.11/site-packages (from stevedore>=3.0.0->qiskit) (6.1.1)\n",
      "Requirement already satisfied: mpmath<1.4,>=1.1.0 in /software/slurm/spackages/linux-rocky8-x86_64/gcc-12.2.0/anaconda3-2023.09-0-3mhml42fa64byxqyd5fig5tbih625dp2/lib/python3.11/site-packages (from sympy>=1.3->qiskit) (1.3.0)\n",
      "Requirement already satisfied: setuptools in /software/slurm/spackages/linux-rocky8-x86_64/gcc-12.2.0/anaconda3-2023.09-0-3mhml42fa64byxqyd5fig5tbih625dp2/lib/python3.11/site-packages (from pbr>=2.0.0->stevedore>=3.0.0->qiskit) (68.0.0)\n",
      "Note: you may need to restart the kernel to use updated packages.\n"
     ]
    }
   ],
   "source": [
    "pip install qiskit"
   ]
  },
  {
   "cell_type": "code",
   "execution_count": 6,
   "id": "cb37adb8-0ece-4563-8196-08c2893d4be6",
   "metadata": {
    "tags": []
   },
   "outputs": [
    {
     "name": "stdout",
     "output_type": "stream",
     "text": [
      "Defaulting to user installation because normal site-packages is not writeable\n",
      "Collecting qiskit-machine-learning\n",
      "  Obtaining dependency information for qiskit-machine-learning from https://files.pythonhosted.org/packages/12/3f/21001b66d28b789c1a32e97d8189ae153fa8d0994382fd0006b9138447bb/qiskit_machine_learning-0.8.2-py3-none-any.whl.metadata\n",
      "  Downloading qiskit_machine_learning-0.8.2-py3-none-any.whl.metadata (13 kB)\n",
      "Requirement already satisfied: qiskit>=1.0 in /home/malshur/.local/lib/python3.11/site-packages (from qiskit-machine-learning) (1.4.0)\n",
      "Requirement already satisfied: scipy>=1.4 in /home/malshur/.local/lib/python3.11/site-packages (from qiskit-machine-learning) (1.15.1)\n",
      "Requirement already satisfied: numpy>=1.17 in /home/malshur/.local/lib/python3.11/site-packages (from qiskit-machine-learning) (1.23.5)\n",
      "Requirement already satisfied: psutil>=5 in /software/slurm/spackages/linux-rocky8-x86_64/gcc-12.2.0/anaconda3-2023.09-0-3mhml42fa64byxqyd5fig5tbih625dp2/lib/python3.11/site-packages (from qiskit-machine-learning) (5.9.0)\n",
      "Requirement already satisfied: scikit-learn>=1.2 in /software/slurm/spackages/linux-rocky8-x86_64/gcc-12.2.0/anaconda3-2023.09-0-3mhml42fa64byxqyd5fig5tbih625dp2/lib/python3.11/site-packages (from qiskit-machine-learning) (1.3.0)\n",
      "Requirement already satisfied: setuptools>=40.1 in /software/slurm/spackages/linux-rocky8-x86_64/gcc-12.2.0/anaconda3-2023.09-0-3mhml42fa64byxqyd5fig5tbih625dp2/lib/python3.11/site-packages (from qiskit-machine-learning) (68.0.0)\n",
      "Requirement already satisfied: dill>=0.3.4 in /software/slurm/spackages/linux-rocky8-x86_64/gcc-12.2.0/anaconda3-2023.09-0-3mhml42fa64byxqyd5fig5tbih625dp2/lib/python3.11/site-packages (from qiskit-machine-learning) (0.3.6)\n",
      "Requirement already satisfied: rustworkx>=0.15.0 in /home/malshur/.local/lib/python3.11/site-packages (from qiskit>=1.0->qiskit-machine-learning) (0.16.0)\n",
      "Requirement already satisfied: sympy>=1.3 in /home/malshur/.local/lib/python3.11/site-packages (from qiskit>=1.0->qiskit-machine-learning) (1.13.1)\n",
      "Requirement already satisfied: python-dateutil>=2.8.0 in /software/slurm/spackages/linux-rocky8-x86_64/gcc-12.2.0/anaconda3-2023.09-0-3mhml42fa64byxqyd5fig5tbih625dp2/lib/python3.11/site-packages (from qiskit>=1.0->qiskit-machine-learning) (2.8.2)\n",
      "Requirement already satisfied: stevedore>=3.0.0 in /home/malshur/.local/lib/python3.11/site-packages (from qiskit>=1.0->qiskit-machine-learning) (5.4.0)\n",
      "Requirement already satisfied: typing-extensions in /home/malshur/.local/lib/python3.11/site-packages (from qiskit>=1.0->qiskit-machine-learning) (4.9.0)\n",
      "Requirement already satisfied: symengine<0.14,>=0.11 in /home/malshur/.local/lib/python3.11/site-packages (from qiskit>=1.0->qiskit-machine-learning) (0.13.0)\n",
      "Requirement already satisfied: joblib>=1.1.1 in /software/slurm/spackages/linux-rocky8-x86_64/gcc-12.2.0/anaconda3-2023.09-0-3mhml42fa64byxqyd5fig5tbih625dp2/lib/python3.11/site-packages (from scikit-learn>=1.2->qiskit-machine-learning) (1.2.0)\n",
      "Requirement already satisfied: threadpoolctl>=2.0.0 in /software/slurm/spackages/linux-rocky8-x86_64/gcc-12.2.0/anaconda3-2023.09-0-3mhml42fa64byxqyd5fig5tbih625dp2/lib/python3.11/site-packages (from scikit-learn>=1.2->qiskit-machine-learning) (2.2.0)\n",
      "Requirement already satisfied: six>=1.5 in /software/slurm/spackages/linux-rocky8-x86_64/gcc-12.2.0/anaconda3-2023.09-0-3mhml42fa64byxqyd5fig5tbih625dp2/lib/python3.11/site-packages (from python-dateutil>=2.8.0->qiskit>=1.0->qiskit-machine-learning) (1.16.0)\n",
      "Requirement already satisfied: pbr>=2.0.0 in /home/malshur/.local/lib/python3.11/site-packages (from stevedore>=3.0.0->qiskit>=1.0->qiskit-machine-learning) (6.1.1)\n",
      "Requirement already satisfied: mpmath<1.4,>=1.1.0 in /software/slurm/spackages/linux-rocky8-x86_64/gcc-12.2.0/anaconda3-2023.09-0-3mhml42fa64byxqyd5fig5tbih625dp2/lib/python3.11/site-packages (from sympy>=1.3->qiskit>=1.0->qiskit-machine-learning) (1.3.0)\n",
      "Downloading qiskit_machine_learning-0.8.2-py3-none-any.whl (231 kB)\n",
      "\u001b[2K   \u001b[90m━━━━━━━━━━━━━━━━━━━━━━━━━━━━━━━━━━━━━━━━\u001b[0m \u001b[32m231.6/231.6 kB\u001b[0m \u001b[31m4.2 MB/s\u001b[0m eta \u001b[36m0:00:00\u001b[0ma \u001b[36m0:00:01\u001b[0m\n",
      "\u001b[?25hInstalling collected packages: qiskit-machine-learning\n",
      "Successfully installed qiskit-machine-learning-0.8.2\n",
      "Note: you may need to restart the kernel to use updated packages.\n"
     ]
    }
   ],
   "source": [
    "pip install qiskit-machine-learning\n"
   ]
  },
  {
   "cell_type": "code",
   "execution_count": 2,
   "id": "e47254de-9f07-4a27-8c45-7399408030ab",
   "metadata": {
    "tags": []
   },
   "outputs": [
    {
     "name": "stdout",
     "output_type": "stream",
     "text": [
      "Defaulting to user installation because normal site-packages is not writeable\n",
      "Requirement already satisfied: qiskit-aer in /home/malshur/.local/lib/python3.11/site-packages (0.16.1)\n",
      "Requirement already satisfied: qiskit>=1.1.0 in /home/malshur/.local/lib/python3.11/site-packages (from qiskit-aer) (1.4.0)\n",
      "Requirement already satisfied: numpy>=1.16.3 in /home/malshur/.local/lib/python3.11/site-packages (from qiskit-aer) (1.23.5)\n",
      "Requirement already satisfied: scipy>=1.0 in /home/malshur/.local/lib/python3.11/site-packages (from qiskit-aer) (1.15.1)\n",
      "Requirement already satisfied: psutil>=5 in /software/slurm/spackages/linux-rocky8-x86_64/gcc-12.2.0/anaconda3-2023.09-0-3mhml42fa64byxqyd5fig5tbih625dp2/lib/python3.11/site-packages (from qiskit-aer) (5.9.0)\n",
      "Requirement already satisfied: rustworkx>=0.15.0 in /home/malshur/.local/lib/python3.11/site-packages (from qiskit>=1.1.0->qiskit-aer) (0.16.0)\n",
      "Requirement already satisfied: sympy>=1.3 in /home/malshur/.local/lib/python3.11/site-packages (from qiskit>=1.1.0->qiskit-aer) (1.13.1)\n",
      "Requirement already satisfied: dill>=0.3 in /software/slurm/spackages/linux-rocky8-x86_64/gcc-12.2.0/anaconda3-2023.09-0-3mhml42fa64byxqyd5fig5tbih625dp2/lib/python3.11/site-packages (from qiskit>=1.1.0->qiskit-aer) (0.3.6)\n",
      "Requirement already satisfied: python-dateutil>=2.8.0 in /software/slurm/spackages/linux-rocky8-x86_64/gcc-12.2.0/anaconda3-2023.09-0-3mhml42fa64byxqyd5fig5tbih625dp2/lib/python3.11/site-packages (from qiskit>=1.1.0->qiskit-aer) (2.8.2)\n",
      "Requirement already satisfied: stevedore>=3.0.0 in /home/malshur/.local/lib/python3.11/site-packages (from qiskit>=1.1.0->qiskit-aer) (5.4.0)\n",
      "Requirement already satisfied: typing-extensions in /home/malshur/.local/lib/python3.11/site-packages (from qiskit>=1.1.0->qiskit-aer) (4.9.0)\n",
      "Requirement already satisfied: symengine<0.14,>=0.11 in /home/malshur/.local/lib/python3.11/site-packages (from qiskit>=1.1.0->qiskit-aer) (0.13.0)\n",
      "Requirement already satisfied: six>=1.5 in /software/slurm/spackages/linux-rocky8-x86_64/gcc-12.2.0/anaconda3-2023.09-0-3mhml42fa64byxqyd5fig5tbih625dp2/lib/python3.11/site-packages (from python-dateutil>=2.8.0->qiskit>=1.1.0->qiskit-aer) (1.16.0)\n",
      "Requirement already satisfied: pbr>=2.0.0 in /home/malshur/.local/lib/python3.11/site-packages (from stevedore>=3.0.0->qiskit>=1.1.0->qiskit-aer) (6.1.1)\n",
      "Requirement already satisfied: mpmath<1.4,>=1.1.0 in /software/slurm/spackages/linux-rocky8-x86_64/gcc-12.2.0/anaconda3-2023.09-0-3mhml42fa64byxqyd5fig5tbih625dp2/lib/python3.11/site-packages (from sympy>=1.3->qiskit>=1.1.0->qiskit-aer) (1.3.0)\n",
      "Requirement already satisfied: setuptools in /software/slurm/spackages/linux-rocky8-x86_64/gcc-12.2.0/anaconda3-2023.09-0-3mhml42fa64byxqyd5fig5tbih625dp2/lib/python3.11/site-packages (from pbr>=2.0.0->stevedore>=3.0.0->qiskit>=1.1.0->qiskit-aer) (68.0.0)\n",
      "Note: you may need to restart the kernel to use updated packages.\n"
     ]
    }
   ],
   "source": [
    "pip install qiskit-aer\n"
   ]
  },
  {
   "cell_type": "code",
   "execution_count": 1,
   "id": "b1f290af-c478-417f-a3e2-9e8034ac044f",
   "metadata": {
    "tags": []
   },
   "outputs": [],
   "source": [
    "import pandas \n",
    "import numpy \n",
    "import math\n",
    "import seaborn\n",
    "import joblib\n",
    "import matplotlib.pyplot as pyplot\n",
    "import matplotlib.pylab as pylab\n",
    "from sklearn.feature_extraction.text import CountVectorizer\n",
    "from collections import Counter\n",
    "from sklearn import model_selection\n",
    "from sklearn.linear_model import LogisticRegression\n",
    "from sklearn.naive_bayes import GaussianNB\n",
    "from sklearn.ensemble import RandomForestClassifier\n",
    "from sklearn.ensemble import VotingClassifier\n",
    "from sklearn.ensemble import ExtraTreesClassifier\n",
    "from sklearn.model_selection import train_test_split\n",
    "from sklearn.metrics import confusion_matrix\n",
    "from sklearn.tree import DecisionTreeRegressor\n",
    "from sklearn.model_selection import GridSearchCV\n",
    "from sklearn.tree import DecisionTreeClassifier\n",
    "from sklearn.feature_extraction.text import TfidfVectorizer\n",
    "from sklearn.feature_selection import SelectKBest\n",
    "from sklearn.feature_selection import chi2"
   ]
  },
  {
   "cell_type": "code",
   "execution_count": 2,
   "id": "b043fb9a-34df-4d80-b961-10b492329194",
   "metadata": {
    "tags": []
   },
   "outputs": [],
   "source": [
    "def plot_cm(cm, labels):\n",
    "    percent = (cm*100.0)/numpy.array(numpy.matrix(cm.sum(axis=1)).T)\n",
    "    print( 'Confusion Matrix Stats' )\n",
    "    for i, label_i in enumerate(labels):\n",
    "        for j, label_j in enumerate(labels):\n",
    "            print( \"%s/%s: %.2f%% (%d/%d)\" % (label_i, label_j, (percent[i][j]), cm[i][j], cm[i].sum()) )\n",
    "    fig = pyplot.figure()\n",
    "    ax = fig.add_subplot(111)\n",
    "    ax.grid(b=False)\n",
    "    cax = ax.matshow(percent, cmap='coolwarm')\n",
    "    pylab.title('Confusion matrix of the classifier')\n",
    "    fig.colorbar(cax)\n",
    "    ax.set_xticklabels([''] + labels)\n",
    "    ax.set_yticklabels([''] + labels)\n",
    "    pylab.xlabel('Predicted')\n",
    "    pylab.ylabel('True')\n",
    "    pylab.show()\n"
   ]
  },
  {
   "cell_type": "code",
   "execution_count": 6,
   "id": "199d71af-e5b4-49ec-83ad-8a7e44fd34fe",
   "metadata": {
    "tags": []
   },
   "outputs": [
    {
     "name": "stdout",
     "output_type": "stream",
     "text": [
      "#1 Read The Data: Final Project - QC/data_exported_7features.csv\n"
     ]
    },
    {
     "name": "stderr",
     "output_type": "stream",
     "text": [
      "/local_scratch/slurm.2796810/ipykernel_1069127/758454332.py:2: DtypeWarning: Columns (19) have mixed types. Specify dtype option on import or set low_memory=False.\n",
      "  data = pandas.read_csv('data_exported_7features.csv', header=0, encoding='utf-8')\n"
     ]
    },
    {
     "name": "stdout",
     "output_type": "stream",
     "text": [
      "#2 Calculate / Prepare The Data (Features Selection)\n"
     ]
    }
   ],
   "source": [
    "print('#1 Read The Data: Final Project - QC/data_exported_7features.csv')\n",
    "data = pandas.read_csv('data_exported_7features.csv', header=0, encoding='utf-8')\n",
    "print('#2 Calculate / Prepare The Data (Features Selection)')\n",
    "\n",
    "X = data[['CharLength', 'TreeNewFeature', 'nGramReputation_Alexa', 'MinREBotnets']].to_numpy()\n",
    "y = numpy.array(data['Label'].tolist())\n",
    "yBinary = numpy.array(data['LabelBinary'].tolist())"
   ]
  },
  {
   "cell_type": "code",
   "execution_count": 7,
   "id": "e4f3750e-75c7-4e12-99d0-02eb3d4590f0",
   "metadata": {
    "tags": []
   },
   "outputs": [
    {
     "name": "stdout",
     "output_type": "stream",
     "text": [
      "#3 Run The Algorithms\n"
     ]
    },
    {
     "name": "stderr",
     "output_type": "stream",
     "text": [
      "[Parallel(n_jobs=-1)]: Using backend ThreadingBackend with 4 concurrent workers.\n",
      "[Parallel(n_jobs=-1)]: Done  42 tasks      | elapsed:   26.8s\n",
      "[Parallel(n_jobs=-1)]: Done 192 tasks      | elapsed:  1.9min\n",
      "[Parallel(n_jobs=-1)]: Done 300 out of 300 | elapsed:  3.0min finished\n"
     ]
    }
   ],
   "source": [
    "print('#3 Run The Algorithms')\n",
    "\n",
    "X_train, X_test, y_train, y_test = train_test_split(X, y, test_size=0.2)\n",
    "\n",
    "\n",
    "clf1 = LogisticRegression(random_state=1)\n",
    "clf1.fit(X_train, y_train)\n",
    "\n",
    "clf2 = RandomForestClassifier(bootstrap=True, max_depth=None, min_samples_leaf=1,\n",
    "                              n_estimators=300, n_jobs=-1, oob_score=False,\n",
    "                              random_state=1, verbose=1)\n",
    "clf2.fit(X_train, y_train)\n",
    "\n",
    "clf3 = GaussianNB()\n",
    "clf3.fit(X_train, y_train)\n",
    "\n",
    "clf4 = ExtraTreesClassifier(n_estimators=100, n_jobs=-1, random_state=1)\n",
    "clf4.fit(X_train, y_train)\n",
    "\n",
    "eclf = VotingClassifier(estimators=[('lr', clf1), ('rf', clf2), ('gnb', clf3), ('etr', clf4)], voting='soft')\n",
    "\n"
   ]
  },
  {
   "cell_type": "code",
   "execution_count": 8,
   "id": "1657b2ce-ff3e-4921-b6d4-4f19b0fa2ba5",
   "metadata": {
    "tags": []
   },
   "outputs": [
    {
     "name": "stdout",
     "output_type": "stream",
     "text": [
      "Accuracy: 0.895460 [Logistic Regression]\n"
     ]
    },
    {
     "name": "stderr",
     "output_type": "stream",
     "text": [
      "[Parallel(n_jobs=-1)]: Using backend ThreadingBackend with 4 concurrent workers.\n",
      "[Parallel(n_jobs=-1)]: Done  42 tasks      | elapsed:   25.7s\n",
      "[Parallel(n_jobs=-1)]: Done 192 tasks      | elapsed:  1.9min\n",
      "[Parallel(n_jobs=-1)]: Done 300 out of 300 | elapsed:  3.0min finished\n",
      "[Parallel(n_jobs=4)]: Using backend ThreadingBackend with 4 concurrent workers.\n",
      "[Parallel(n_jobs=4)]: Done  42 tasks      | elapsed:    0.7s\n",
      "[Parallel(n_jobs=4)]: Done 192 tasks      | elapsed:    2.9s\n",
      "[Parallel(n_jobs=4)]: Done 300 out of 300 | elapsed:    4.4s finished\n"
     ]
    },
    {
     "name": "stdout",
     "output_type": "stream",
     "text": [
      "Accuracy: 0.951909 [Random Forest]\n",
      "Accuracy: 0.826862 [Naive Bayes]\n",
      "Accuracy: 0.949399 [Extra Tree]\n"
     ]
    },
    {
     "name": "stderr",
     "output_type": "stream",
     "text": [
      "[Parallel(n_jobs=-1)]: Using backend LokyBackend with 4 concurrent workers.\n",
      "[Parallel(n_jobs=-1)]: Done  42 tasks      | elapsed:   26.9s\n",
      "[Parallel(n_jobs=-1)]: Done 192 tasks      | elapsed:  2.0min\n",
      "[Parallel(n_jobs=-1)]: Done 300 out of 300 | elapsed:  3.1min finished\n",
      "[Parallel(n_jobs=4)]: Using backend ThreadingBackend with 4 concurrent workers.\n",
      "[Parallel(n_jobs=4)]: Done  42 tasks      | elapsed:    0.7s\n",
      "[Parallel(n_jobs=4)]: Done 192 tasks      | elapsed:    2.8s\n",
      "[Parallel(n_jobs=4)]: Done 300 out of 300 | elapsed:    4.4s finished\n"
     ]
    },
    {
     "name": "stdout",
     "output_type": "stream",
     "text": [
      "Accuracy: 0.945498 [Ensemble]\n"
     ]
    }
   ],
   "source": [
    "from sklearn.metrics import accuracy_score\n",
    "\n",
    "# Ensure that you fit the models first\n",
    "for clf, label in zip([clf1, clf2, clf3, clf4, eclf], ['Logistic Regression', 'Random Forest', 'Naive Bayes',\n",
    "                                                       'Extra Tree', 'Ensemble']):\n",
    "    # Fit the classifier if it hasn't been fitted already\n",
    "    clf.fit(X_train, y_train)  # Assuming X_train and y_train are your training data\n",
    "    \n",
    "    # Now, predict the test data\n",
    "    y_pred = clf.predict(X_test)\n",
    "    acc = accuracy_score(y_test, y_pred)  # y_test is your true labels for the test data\n",
    "    print(f\"Accuracy: {acc:.6f} [{label}]\")\n"
   ]
  }
 ],
 "metadata": {
  "kernelspec": {
   "display_name": "Python 3 (ipykernel)",
   "language": "python",
   "name": "python3"
  },
  "language_info": {
   "codemirror_mode": {
    "name": "ipython",
    "version": 3
   },
   "file_extension": ".py",
   "mimetype": "text/x-python",
   "name": "python",
   "nbconvert_exporter": "python",
   "pygments_lexer": "ipython3",
   "version": "3.11.5"
  }
 },
 "nbformat": 4,
 "nbformat_minor": 5
}
